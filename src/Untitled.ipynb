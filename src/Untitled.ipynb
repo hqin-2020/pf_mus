{
 "cells": [
  {
   "cell_type": "code",
   "execution_count": 15,
   "id": "695b136a",
   "metadata": {},
   "outputs": [],
   "source": [
    "import numpy as np\n",
    "import pickle"
   ]
  },
  {
   "cell_type": "code",
   "execution_count": 18,
   "id": "49eadaa4",
   "metadata": {},
   "outputs": [],
   "source": [
    "with open('/Users/haominqin/Dropbox/Mac/Documents/Estimation Projects/51st Version, PF replicate/output/actual data 1, seed = 6, T = 283, N = 1000, Λ_scale = 1.0, cd_scale = 1.0/θ_4.pkl', 'rb') as f:\n",
    "            θ_1 = pickle.load(f)"
   ]
  },
  {
   "cell_type": "code",
   "execution_count": 19,
   "id": "a08ad061",
   "metadata": {},
   "outputs": [],
   "source": [
    "with open('/Users/haominqin/Dropbox/Mac/Documents/Estimation Projects/51st Version, PF replicate/output/actual data 2, seed = 6, T = 283, N = 1000, Λ_scale = 1.0, cd_scale = 1.0/θ_4.pkl', 'rb') as f:\n",
    "            θ_2 = pickle.load(f)"
   ]
  },
  {
   "cell_type": "code",
   "execution_count": 20,
   "id": "d7f651da",
   "metadata": {},
   "outputs": [
    {
     "data": {
      "text/plain": [
       "-0.018279981055987472"
      ]
     },
     "execution_count": 20,
     "metadata": {},
     "output_type": "execute_result"
    }
   ],
   "source": [
    "np.mean([i[0][1][0] for i in θ_1])"
   ]
  },
  {
   "cell_type": "code",
   "execution_count": 21,
   "id": "0c97dcf8",
   "metadata": {},
   "outputs": [
    {
     "data": {
      "text/plain": [
       "-0.018279981055987472"
      ]
     },
     "execution_count": 21,
     "metadata": {},
     "output_type": "execute_result"
    }
   ],
   "source": [
    "np.mean([i[0][1][0] for i in θ_2])"
   ]
  },
  {
   "cell_type": "code",
   "execution_count": null,
   "id": "7f2dba90",
   "metadata": {},
   "outputs": [],
   "source": []
  }
 ],
 "metadata": {
  "kernelspec": {
   "display_name": "Python 3 (ipykernel)",
   "language": "python",
   "name": "python3"
  },
  "language_info": {
   "codemirror_mode": {
    "name": "ipython",
    "version": 3
   },
   "file_extension": ".py",
   "mimetype": "text/x-python",
   "name": "python",
   "nbconvert_exporter": "python",
   "pygments_lexer": "ipython3",
   "version": "3.9.12"
  }
 },
 "nbformat": 4,
 "nbformat_minor": 5
}
